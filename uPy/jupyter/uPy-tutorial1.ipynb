{
 "cells": [
  {
   "cell_type": "markdown",
   "metadata": {},
   "source": [
    "# A Jupyter based Micropython tutorial\n",
    "\n",
    "This tutorial aims to show some of the micropython basic concepts, using jupyter. This means you can interactively control your micropython board from within a webbrowser, as shown initially by ToniD from Adafruit. \n",
    "\n",
    "The following uses `mpy-repl-tool`, a collection of very effective micropython utilities maintained by @zsquareplusc. There is an official Pypi package at https://pypi.python.org/pypi/mpy-repl-tool and docs at http://mpy-repl-tool.readthedocs.io\n",
    "\n",
    "This tutorial gives you a couple of sample code that you can try out and/or change at your will.\n",
    "\n",
    "Remember: Execute a cell is CTRL+Enter\n",
    "\n",
    "Note: \n",
    "There are some limitation that makes this tutorial slightly different than the official tutorial:\n",
    "\n",
    "- output to stdout is only shown if used via a \"print(..)\" statement\n",
    "- if you start e.g. a `while True` loop, you cannot interrupt it from the webbrowser. The kernel has a integrated timeout that sends a CTRL+C after ca.30sec so that you can continue work.\n",
    "\n",
    "\n",
    "Other than that it should give you a good starting point and \"feeling\" for the micropython environment.\n",
    "\n",
    "If you just want to read through the tutorial, you can of course skip the Installation chapter.\n",
    "\n",
    "\n",
    "## lnstallation\n",
    "\n",
    "A working jupyter installation for micropython needs the following preparing steps:\n",
    "\n",
    "If you haven't installed jupyter, do so using pip from the command line:\n",
    "### mac/linux\n",
    "`python3 -m pip install jupyter`\n",
    "### windows\n",
    "`py -3 -m pip install jupyter`\n",
    "\n",
    "other jupyter distributions will also do (e.g. anaconda). But you have to keep in mind that you have use the SAME python distribution for jupyter and for the following additional kernel installation:\n",
    "\n",
    "## Micropython kernel \n",
    "### mac/linux\n",
    "`\n",
    "python3 -m pip install mpy-repl-tool\n",
    "python3 -m there jupyter-setup`\n",
    "\n",
    "### windows\n",
    "`\n",
    "py -3 -m pip install mpy-repl-tool\n",
    "py -3 -m there jupyter-setup`\n",
    "\n",
    "## Starting jupyter\n",
    "From a command line, enter \n",
    "`jupyter notebook`\n",
    "\n",
    "your default webbrowser opens with the jupyther frontend. Select `New - Micropython` from the button on the top right. A new worksheet opens. Now open this worksheet.\n"
   ]
  },
  {
   "cell_type": "markdown",
   "metadata": {},
   "source": [
    "## First steps.. LED on!\n",
    "\n",
    "- Connect your pyboard to the USB port of your computer\n"
   ]
  },
  {
   "cell_type": "code",
   "execution_count": 10,
   "metadata": {},
   "outputs": [
    {
     "name": "stdout",
     "output_type": "stream",
     "text": [
      "mpy-repl-tool: connected to /dev/cu.usbmodem14122: 115200,8,N,1\n",
      "mpy-repl-tool: implementation: (name='micropython', version=(1, 8, 7))\n"
     ]
    }
   ],
   "source": [
    "%connect"
   ]
  },
  {
   "cell_type": "markdown",
   "metadata": {},
   "source": [
    "Note that `%connect` is a magic command in jupyter (because it starts with a `%`). It also accepts a serial port as argument e.g.:"
   ]
  },
  {
   "cell_type": "code",
   "execution_count": 2,
   "metadata": {},
   "outputs": [
    {
     "name": "stdout",
     "output_type": "stream",
     "text": [
      "mpy-repl-tool: connected to /dev/cu.usbmodem14122: 115200,8,N,1\n",
      "mpy-repl-tool: implementation: (name='micropython', version=(1, 8, 7))\n"
     ]
    }
   ],
   "source": [
    "%connect /dev/cu.usbmodem14122"
   ]
  },
  {
   "cell_type": "markdown",
   "metadata": {},
   "source": [
    "Switch the red LED on:"
   ]
  },
  {
   "cell_type": "code",
   "execution_count": 5,
   "metadata": {},
   "outputs": [
    {
     "name": "stdout",
     "output_type": "stream",
     "text": []
    }
   ],
   "source": [
    "import pyb\n",
    "\n",
    "l1=pyb.LED(1)\n",
    "l1.on()"
   ]
  },
  {
   "cell_type": "markdown",
   "metadata": {},
   "source": [
    "and off again"
   ]
  },
  {
   "cell_type": "code",
   "execution_count": null,
   "metadata": {
    "collapsed": true
   },
   "outputs": [],
   "source": [
    "l1.off()"
   ]
  },
  {
   "cell_type": "markdown",
   "metadata": {},
   "source": [
    "excellent!\n",
    "\n",
    "well - maybe a bit boring, lets try the disco light from the micropython tutorial:"
   ]
  },
  {
   "cell_type": "code",
   "execution_count": 11,
   "metadata": {},
   "outputs": [
    {
     "name": "stderr",
     "output_type": "stream",
     "text": [
      "timeout"
     ]
    }
   ],
   "source": [
    "leds = [pyb.LED(i) for i in range(1,5)]\n",
    "n = 0\n",
    "while True:\n",
    "  n = (n + 1) % 4\n",
    "  leds[n].toggle()\n",
    "  pyb.delay(50)"
   ]
  },
  {
   "cell_type": "markdown",
   "metadata": {},
   "source": [
    "you'll notice the disco effect on your board and also that you cannot interrupt the `while true:` loop in your browser... you'll have to wait until the kernel automatically times out after ca.30sec (and sends a keyboard interrupt to your board so that it will terminate the script)\n",
    "\n",
    "So try to avoid infinite loops in example code.\n",
    "\n",
    "Ok - enough for today? Lets disconnect the board cleanly:"
   ]
  },
  {
   "cell_type": "code",
   "execution_count": 8,
   "metadata": {},
   "outputs": [
    {
     "name": "stdout",
     "output_type": "stream",
     "text": [
      "mpy-repl-tool: diconnected"
     ]
    }
   ],
   "source": [
    "%disconnect"
   ]
  }
 ],
 "metadata": {
  "kernelspec": {
   "display_name": "MicroPython",
   "language": "micropython",
   "name": "micropython-mpy-repl"
  },
  "language_info": {
   "file_extension": ".py",
   "mimetype": "text/x-python",
   "name": "python"
  }
 },
 "nbformat": 4,
 "nbformat_minor": 2
}
